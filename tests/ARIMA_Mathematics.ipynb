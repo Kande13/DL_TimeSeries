{
 "cells": [
  {
   "cell_type": "markdown",
   "id": "51b0bee7",
   "metadata": {},
   "source": [
    "# 📘 Décomposition Mathématique du Modèle ARIMA\n",
    "\n",
    "Ce notebook explique les composantes mathématiques du modèle ARIMA avec des formules en LaTeX.\n"
   ]
  },
  {
   "cell_type": "markdown",
   "id": "0ab91600",
   "metadata": {},
   "source": [
    "## 🔹 1. Composante Auto-Régressive (AR)\n",
    "\n",
    "Un modèle **AR(p)** est défini par :\n",
    "\n",
    "$$ X_t = \\phi_1 X_{t-1} + \\phi_2 X_{t-2} + ... + \\phi_p X_{t-p} + \\epsilon_t $$\n",
    "\n",
    "où :  \n",
    "- \\( \\phi_i \\) sont les coefficients du modèle auto-régressif.  \n",
    "- \\( X_t \\) est la valeur actuelle de la série temporelle.  \n",
    "- \\( \\epsilon_t \\) est un bruit blanc.  \n"
   ]
  },
  {
   "cell_type": "markdown",
   "id": "d0651f47",
   "metadata": {},
   "source": [
    "## 🔹 2. Composante Moyenne Mobile (MA)\n",
    "\n",
    "Un modèle **MA(q)** suit l'équation :\n",
    "\n",
    "$$ X_t = \\mu + \\epsilon_t + \theta_1 \\epsilon_{t-1} + \theta_2 \\epsilon_{t-2} + ... + \theta_q \\epsilon_{t-q} $$\n",
    "\n",
    "où :  \n",
    "- \\( \\mu \\) est la moyenne de la série.  \n",
    "- \\( \theta_i \\) sont les coefficients du modèle MA.  \n",
    "- \\( \\epsilon_t \\) est un bruit blanc indépendant.  \n"
   ]
  },
  {
   "cell_type": "markdown",
   "id": "b1fdf826",
   "metadata": {},
   "source": [
    "## 🔹 3. Composante Intégrée (I)\n",
    "\n",
    "L'intégration vise à rendre une série stationnaire en appliquant des différenciations successives.  \n",
    "La différenciation d'ordre \\( d \\) est définie comme :\n",
    "\n",
    "$$ X'_t = X_t - X_{t-1} $$\n",
    "\n",
    "Si la série est encore non stationnaire, on applique une autre différenciation :\n",
    "\n",
    "$$ X''_t = X'_t - X'_{t-1} = (X_t - X_{t-1}) - (X_{t-1} - X_{t-2}) $$\n",
    "\n",
    "En général, après \\( d \\) différenciations :\n",
    "\n",
    "$$ X_t^{(d)} = (1 - L)^d X_t $$\n",
    "\n",
    "où \\( L \\) est l'opérateur de retard (lag operator) :\n",
    "\n",
    "$$ L X_t = X_{t-1} $$\n"
   ]
  },
  {
   "cell_type": "markdown",
   "id": "b72c232b",
   "metadata": {},
   "source": [
    "## 🔹 4. Modèle ARIMA(p,d,q) Complet\n",
    "\n",
    "Le modèle **ARIMA(p,d,q)** combine AR, I et MA :\n",
    "\n",
    "$$ \\left( 1 - \\sum_{i=1}^{p} \\phi_i L^i \r",
    "ight) (1 - L)^d X_t = \\left( 1 + \\sum_{j=1}^{q} \theta_j L^j \r",
    "ight) \\epsilon_t $$\n",
    "\n",
    "où :  \n",
    "- \\( p \\) est le nombre de termes auto-régressifs.  \n",
    "- \\( d \\) est le nombre de différenciations nécessaires pour rendre la série stationnaire.  \n",
    "- \\( q \\) est le nombre de termes de moyenne mobile.  \n"
   ]
  },
  {
   "cell_type": "markdown",
   "id": "990d5519",
   "metadata": {},
   "source": [
    "## 🔹 5. Vérification Symbolique avec SymPy\n",
    "\n",
    "Nous allons utiliser `sympy` pour afficher la forme symbolique de l'équation ARIMA.\n"
   ]
  },
  {
   "cell_type": "code",
   "execution_count": null,
   "id": "440d7e3c",
   "metadata": {},
   "outputs": [],
   "source": [
    "import sympy as sp\n",
    "\n",
    "# Définition des variables\n",
    "X_t, X_t1, X_t2, X_t3 = sp.symbols('X_t X_{t-1} X_{t-2} X_{t-3}')\n",
    "phi1, phi2, phi3 = sp.symbols('\\phi_1 \\phi_2 \\phi_3')\n",
    "theta1, theta2, theta3 = sp.symbols('\\theta_1 \\theta_2 \\theta_3')\n",
    "epsilon_t, epsilon_t1, epsilon_t2 = sp.symbols('\\epsilon_t \\epsilon_{t-1} \\epsilon_{t-2}')\n",
    "\n",
    "# Modèle AR(3)\n",
    "AR_model = sp.Eq(X_t, phi1*X_t1 + phi2*X_t2 + phi3*X_t3 + epsilon_t)\n",
    "AR_model\n"
   ]
  }
 ],
 "metadata": {},
 "nbformat": 4,
 "nbformat_minor": 5
}
